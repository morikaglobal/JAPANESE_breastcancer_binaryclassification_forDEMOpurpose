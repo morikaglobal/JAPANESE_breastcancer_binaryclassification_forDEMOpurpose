{
  "nbformat": 4,
  "nbformat_minor": 0,
  "metadata": {
    "colab": {
      "provenance": []
    },
    "kernelspec": {
      "name": "python3",
      "display_name": "Python 3"
    },
    "language_info": {
      "name": "python"
    }
  },
  "cells": [
    {
      "cell_type": "markdown",
      "source": [
        "## 医療データのバイナリ分類\n",
        "\n",
        "**やったこと**\n",
        "\n",
        "Kaggleにある医療データ（乳がんのデータ）で\n",
        "\n",
        "患者のがんが悪性なのか良性なのかをScikit-learnを使ってバイナリ分類する、\n",
        "\n",
        "最終的に3つの異なるアルゴリズムで分類し、比較する\n",
        "\n",
        "\n",
        "\n",
        "\n",
        "\n",
        "\n",
        "**データの前処理**\n",
        "\n",
        "今回のデータは欠損値やカテゴリ変数のデータがとても少なく、\n",
        "あまりデータの前処理（欠損値のデータ補填、ラベルエンコーディング等）を行う機会がなかったので\n",
        "データの前処理につきましては\n",
        "下記のKaggleのNotebookをご覧いただければと思います。\n",
        "\n",
        "https://www.kaggle.com/code/smorika/beginner-with-score-0-77990-improves-step-by-step\n",
        "\n",
        "https://www.kaggle.com/code/smorika/lightgbm-starting-from-score-0-88350-by-beginner\n",
        "\n",
        "\n",
        "\n",
        "**データのソース**\n",
        "\n",
        "https://www.kaggle.com/datasets/uciml/breast-cancer-wisconsin-data"
      ],
      "metadata": {
        "id": "-JPSlInJhOjz"
      }
    },
    {
      "cell_type": "markdown",
      "source": [
        "## 機械学習の学習と理解について\n",
        "\n",
        "2022年の春に海外のオンライン機械学習初心者向けのワークショップに数週間参加し、\n",
        "\n",
        "その後はKaggleのデータ等を使って自己学習を続けましたが\n",
        "\n",
        "時系列のデータなど、普段業務で扱うことのないデータ、データ前処理の段階で\n",
        "\n",
        "自分が苦手としている箇所が多くデータ分析の学習に集中していたため、\n",
        "\n",
        "機械学習の自己学習は中断してしまっています"
      ],
      "metadata": {
        "id": "RKIp-PBSO6bc"
      }
    },
    {
      "cell_type": "markdown",
      "source": [
        "## 今回できていないこと\n",
        "\n",
        "Matplotlib等を使ったそれぞれの変数の分析、可視化\n",
        "\n",
        "及び可視化によるデータの外れ値、データ分布のチェック等\n",
        "\n",
        "相関係数を見ることによっての説明変数同士の関係性や使う変数の取捨選択\n",
        "\n"
      ],
      "metadata": {
        "id": "64p3NTIvqD6O"
      }
    },
    {
      "cell_type": "markdown",
      "source": [
        "## 現状での機械学習の理解\n",
        "\n",
        "今回のようなデータがあった場合に、\n",
        "特定のデータと指定されたアルゴリズムでモデルを作成し簡単なバイナリ分類や予測、\n",
        "欠損値のあるデータを平均値で埋める、\n",
        "\n",
        "分かりやすいデータであれば外れ値を調整する、\n",
        "などはできるもののそれぞれのアルゴリズムをきちんと理解し、こういうデータや目的であればこのモデルを、という選定はまだ理解が足りずできていません。\n",
        "\n",
        "\n",
        "またモデルの評価もConfusion Matrix, F1Score等は出せるものの\n",
        "\n",
        "その結果を見て精度を改善するにはどうすればいいかの判断、Cross Validation分析、パラメーターのチューニングはまだ学習が足りていないと感じています。\n",
        "\n",
        "\n",
        "特徴量エンジニアリングもデータやターゲット変数にどれだけ偏りがあるかなどによっていろんなやり方があることは理解していてもまだ実践的なスキルが足りていません。\n"
      ],
      "metadata": {
        "id": "6ezuz2-2o4cu"
      }
    },
    {
      "cell_type": "markdown",
      "source": [
        "## データのインポート"
      ],
      "metadata": {
        "id": "k5OyVygxe5hF"
      }
    },
    {
      "cell_type": "code",
      "execution_count": 117,
      "metadata": {
        "id": "6kozDQ4Ubb_o"
      },
      "outputs": [],
      "source": [
        "import pandas as pd\n",
        "# import numpy as np\n",
        "%matplotlib inline\n",
        "import matplotlib.pyplot as plt\n",
        "import seaborn as sns\n",
        "# plt.style.use('dark_background')\n",
        "\n",
        "# import warnings\n",
        "# warnings.filterwarnings('ignore')"
      ]
    },
    {
      "cell_type": "code",
      "source": [
        "ls"
      ],
      "metadata": {
        "colab": {
          "base_uri": "https://localhost:8080/"
        },
        "id": "k5x_7l8h_7PL",
        "outputId": "b7bb9fa3-7208-4a1e-ce89-ac46b52a6abc"
      },
      "execution_count": 118,
      "outputs": [
        {
          "output_type": "stream",
          "name": "stdout",
          "text": [
            "breast-cancer-wisconsin-data.zip  data.csv  \u001b[0m\u001b[01;34msample_data\u001b[0m/\n"
          ]
        }
      ]
    },
    {
      "cell_type": "code",
      "source": [
        "import os\n",
        "\n",
        "os.environ['KAGGLE_CONFIG_DIR'] = '/content/sample_data/'"
      ],
      "metadata": {
        "id": "QW9qpeEDBMwb"
      },
      "execution_count": 119,
      "outputs": []
    },
    {
      "cell_type": "code",
      "source": [
        "!kaggle datasets download -d uciml/breast-cancer-wisconsin-data\n",
        "!unzip \"breast-cancer-wisconsin-data.zip\""
      ],
      "metadata": {
        "id": "_wI-I9HD_7wQ"
      },
      "execution_count": 120,
      "outputs": []
    },
    {
      "cell_type": "code",
      "source": [
        "ls"
      ],
      "metadata": {
        "colab": {
          "base_uri": "https://localhost:8080/"
        },
        "id": "ysY0Bgy3Zkx0",
        "outputId": "9be2af9a-8307-49e9-dadd-485a9d50cd4f"
      },
      "execution_count": 121,
      "outputs": [
        {
          "output_type": "stream",
          "name": "stdout",
          "text": [
            "breast-cancer-wisconsin-data.zip  data.csv  \u001b[0m\u001b[01;34msample_data\u001b[0m/\n"
          ]
        }
      ]
    },
    {
      "cell_type": "code",
      "source": [
        "df = pd.read_csv('data.csv')\n",
        "df.head()"
      ],
      "metadata": {
        "colab": {
          "base_uri": "https://localhost:8080/",
          "height": 316
        },
        "id": "9rJN1JcQz8wn",
        "outputId": "40400618-3be6-44ce-db35-48a60aef9274"
      },
      "execution_count": 122,
      "outputs": [
        {
          "output_type": "execute_result",
          "data": {
            "text/plain": [
              "         id diagnosis  radius_mean  texture_mean  perimeter_mean  area_mean  \\\n",
              "0    842302         M        17.99         10.38          122.80     1001.0   \n",
              "1    842517         M        20.57         17.77          132.90     1326.0   \n",
              "2  84300903         M        19.69         21.25          130.00     1203.0   \n",
              "3  84348301         M        11.42         20.38           77.58      386.1   \n",
              "4  84358402         M        20.29         14.34          135.10     1297.0   \n",
              "\n",
              "   smoothness_mean  compactness_mean  concavity_mean  concave points_mean  \\\n",
              "0          0.11840           0.27760          0.3001              0.14710   \n",
              "1          0.08474           0.07864          0.0869              0.07017   \n",
              "2          0.10960           0.15990          0.1974              0.12790   \n",
              "3          0.14250           0.28390          0.2414              0.10520   \n",
              "4          0.10030           0.13280          0.1980              0.10430   \n",
              "\n",
              "   ...  texture_worst  perimeter_worst  area_worst  smoothness_worst  \\\n",
              "0  ...          17.33           184.60      2019.0            0.1622   \n",
              "1  ...          23.41           158.80      1956.0            0.1238   \n",
              "2  ...          25.53           152.50      1709.0            0.1444   \n",
              "3  ...          26.50            98.87       567.7            0.2098   \n",
              "4  ...          16.67           152.20      1575.0            0.1374   \n",
              "\n",
              "   compactness_worst  concavity_worst  concave points_worst  symmetry_worst  \\\n",
              "0             0.6656           0.7119                0.2654          0.4601   \n",
              "1             0.1866           0.2416                0.1860          0.2750   \n",
              "2             0.4245           0.4504                0.2430          0.3613   \n",
              "3             0.8663           0.6869                0.2575          0.6638   \n",
              "4             0.2050           0.4000                0.1625          0.2364   \n",
              "\n",
              "   fractal_dimension_worst  Unnamed: 32  \n",
              "0                  0.11890          NaN  \n",
              "1                  0.08902          NaN  \n",
              "2                  0.08758          NaN  \n",
              "3                  0.17300          NaN  \n",
              "4                  0.07678          NaN  \n",
              "\n",
              "[5 rows x 33 columns]"
            ],
            "text/html": [
              "\n",
              "  <div id=\"df-45df2c71-685a-4496-9d12-5334f373cd7c\">\n",
              "    <div class=\"colab-df-container\">\n",
              "      <div>\n",
              "<style scoped>\n",
              "    .dataframe tbody tr th:only-of-type {\n",
              "        vertical-align: middle;\n",
              "    }\n",
              "\n",
              "    .dataframe tbody tr th {\n",
              "        vertical-align: top;\n",
              "    }\n",
              "\n",
              "    .dataframe thead th {\n",
              "        text-align: right;\n",
              "    }\n",
              "</style>\n",
              "<table border=\"1\" class=\"dataframe\">\n",
              "  <thead>\n",
              "    <tr style=\"text-align: right;\">\n",
              "      <th></th>\n",
              "      <th>id</th>\n",
              "      <th>diagnosis</th>\n",
              "      <th>radius_mean</th>\n",
              "      <th>texture_mean</th>\n",
              "      <th>perimeter_mean</th>\n",
              "      <th>area_mean</th>\n",
              "      <th>smoothness_mean</th>\n",
              "      <th>compactness_mean</th>\n",
              "      <th>concavity_mean</th>\n",
              "      <th>concave points_mean</th>\n",
              "      <th>...</th>\n",
              "      <th>texture_worst</th>\n",
              "      <th>perimeter_worst</th>\n",
              "      <th>area_worst</th>\n",
              "      <th>smoothness_worst</th>\n",
              "      <th>compactness_worst</th>\n",
              "      <th>concavity_worst</th>\n",
              "      <th>concave points_worst</th>\n",
              "      <th>symmetry_worst</th>\n",
              "      <th>fractal_dimension_worst</th>\n",
              "      <th>Unnamed: 32</th>\n",
              "    </tr>\n",
              "  </thead>\n",
              "  <tbody>\n",
              "    <tr>\n",
              "      <th>0</th>\n",
              "      <td>842302</td>\n",
              "      <td>M</td>\n",
              "      <td>17.99</td>\n",
              "      <td>10.38</td>\n",
              "      <td>122.80</td>\n",
              "      <td>1001.0</td>\n",
              "      <td>0.11840</td>\n",
              "      <td>0.27760</td>\n",
              "      <td>0.3001</td>\n",
              "      <td>0.14710</td>\n",
              "      <td>...</td>\n",
              "      <td>17.33</td>\n",
              "      <td>184.60</td>\n",
              "      <td>2019.0</td>\n",
              "      <td>0.1622</td>\n",
              "      <td>0.6656</td>\n",
              "      <td>0.7119</td>\n",
              "      <td>0.2654</td>\n",
              "      <td>0.4601</td>\n",
              "      <td>0.11890</td>\n",
              "      <td>NaN</td>\n",
              "    </tr>\n",
              "    <tr>\n",
              "      <th>1</th>\n",
              "      <td>842517</td>\n",
              "      <td>M</td>\n",
              "      <td>20.57</td>\n",
              "      <td>17.77</td>\n",
              "      <td>132.90</td>\n",
              "      <td>1326.0</td>\n",
              "      <td>0.08474</td>\n",
              "      <td>0.07864</td>\n",
              "      <td>0.0869</td>\n",
              "      <td>0.07017</td>\n",
              "      <td>...</td>\n",
              "      <td>23.41</td>\n",
              "      <td>158.80</td>\n",
              "      <td>1956.0</td>\n",
              "      <td>0.1238</td>\n",
              "      <td>0.1866</td>\n",
              "      <td>0.2416</td>\n",
              "      <td>0.1860</td>\n",
              "      <td>0.2750</td>\n",
              "      <td>0.08902</td>\n",
              "      <td>NaN</td>\n",
              "    </tr>\n",
              "    <tr>\n",
              "      <th>2</th>\n",
              "      <td>84300903</td>\n",
              "      <td>M</td>\n",
              "      <td>19.69</td>\n",
              "      <td>21.25</td>\n",
              "      <td>130.00</td>\n",
              "      <td>1203.0</td>\n",
              "      <td>0.10960</td>\n",
              "      <td>0.15990</td>\n",
              "      <td>0.1974</td>\n",
              "      <td>0.12790</td>\n",
              "      <td>...</td>\n",
              "      <td>25.53</td>\n",
              "      <td>152.50</td>\n",
              "      <td>1709.0</td>\n",
              "      <td>0.1444</td>\n",
              "      <td>0.4245</td>\n",
              "      <td>0.4504</td>\n",
              "      <td>0.2430</td>\n",
              "      <td>0.3613</td>\n",
              "      <td>0.08758</td>\n",
              "      <td>NaN</td>\n",
              "    </tr>\n",
              "    <tr>\n",
              "      <th>3</th>\n",
              "      <td>84348301</td>\n",
              "      <td>M</td>\n",
              "      <td>11.42</td>\n",
              "      <td>20.38</td>\n",
              "      <td>77.58</td>\n",
              "      <td>386.1</td>\n",
              "      <td>0.14250</td>\n",
              "      <td>0.28390</td>\n",
              "      <td>0.2414</td>\n",
              "      <td>0.10520</td>\n",
              "      <td>...</td>\n",
              "      <td>26.50</td>\n",
              "      <td>98.87</td>\n",
              "      <td>567.7</td>\n",
              "      <td>0.2098</td>\n",
              "      <td>0.8663</td>\n",
              "      <td>0.6869</td>\n",
              "      <td>0.2575</td>\n",
              "      <td>0.6638</td>\n",
              "      <td>0.17300</td>\n",
              "      <td>NaN</td>\n",
              "    </tr>\n",
              "    <tr>\n",
              "      <th>4</th>\n",
              "      <td>84358402</td>\n",
              "      <td>M</td>\n",
              "      <td>20.29</td>\n",
              "      <td>14.34</td>\n",
              "      <td>135.10</td>\n",
              "      <td>1297.0</td>\n",
              "      <td>0.10030</td>\n",
              "      <td>0.13280</td>\n",
              "      <td>0.1980</td>\n",
              "      <td>0.10430</td>\n",
              "      <td>...</td>\n",
              "      <td>16.67</td>\n",
              "      <td>152.20</td>\n",
              "      <td>1575.0</td>\n",
              "      <td>0.1374</td>\n",
              "      <td>0.2050</td>\n",
              "      <td>0.4000</td>\n",
              "      <td>0.1625</td>\n",
              "      <td>0.2364</td>\n",
              "      <td>0.07678</td>\n",
              "      <td>NaN</td>\n",
              "    </tr>\n",
              "  </tbody>\n",
              "</table>\n",
              "<p>5 rows × 33 columns</p>\n",
              "</div>\n",
              "      <button class=\"colab-df-convert\" onclick=\"convertToInteractive('df-45df2c71-685a-4496-9d12-5334f373cd7c')\"\n",
              "              title=\"Convert this dataframe to an interactive table.\"\n",
              "              style=\"display:none;\">\n",
              "        \n",
              "  <svg xmlns=\"http://www.w3.org/2000/svg\" height=\"24px\"viewBox=\"0 0 24 24\"\n",
              "       width=\"24px\">\n",
              "    <path d=\"M0 0h24v24H0V0z\" fill=\"none\"/>\n",
              "    <path d=\"M18.56 5.44l.94 2.06.94-2.06 2.06-.94-2.06-.94-.94-2.06-.94 2.06-2.06.94zm-11 1L8.5 8.5l.94-2.06 2.06-.94-2.06-.94L8.5 2.5l-.94 2.06-2.06.94zm10 10l.94 2.06.94-2.06 2.06-.94-2.06-.94-.94-2.06-.94 2.06-2.06.94z\"/><path d=\"M17.41 7.96l-1.37-1.37c-.4-.4-.92-.59-1.43-.59-.52 0-1.04.2-1.43.59L10.3 9.45l-7.72 7.72c-.78.78-.78 2.05 0 2.83L4 21.41c.39.39.9.59 1.41.59.51 0 1.02-.2 1.41-.59l7.78-7.78 2.81-2.81c.8-.78.8-2.07 0-2.86zM5.41 20L4 18.59l7.72-7.72 1.47 1.35L5.41 20z\"/>\n",
              "  </svg>\n",
              "      </button>\n",
              "      \n",
              "  <style>\n",
              "    .colab-df-container {\n",
              "      display:flex;\n",
              "      flex-wrap:wrap;\n",
              "      gap: 12px;\n",
              "    }\n",
              "\n",
              "    .colab-df-convert {\n",
              "      background-color: #E8F0FE;\n",
              "      border: none;\n",
              "      border-radius: 50%;\n",
              "      cursor: pointer;\n",
              "      display: none;\n",
              "      fill: #1967D2;\n",
              "      height: 32px;\n",
              "      padding: 0 0 0 0;\n",
              "      width: 32px;\n",
              "    }\n",
              "\n",
              "    .colab-df-convert:hover {\n",
              "      background-color: #E2EBFA;\n",
              "      box-shadow: 0px 1px 2px rgba(60, 64, 67, 0.3), 0px 1px 3px 1px rgba(60, 64, 67, 0.15);\n",
              "      fill: #174EA6;\n",
              "    }\n",
              "\n",
              "    [theme=dark] .colab-df-convert {\n",
              "      background-color: #3B4455;\n",
              "      fill: #D2E3FC;\n",
              "    }\n",
              "\n",
              "    [theme=dark] .colab-df-convert:hover {\n",
              "      background-color: #434B5C;\n",
              "      box-shadow: 0px 1px 3px 1px rgba(0, 0, 0, 0.15);\n",
              "      filter: drop-shadow(0px 1px 2px rgba(0, 0, 0, 0.3));\n",
              "      fill: #FFFFFF;\n",
              "    }\n",
              "  </style>\n",
              "\n",
              "      <script>\n",
              "        const buttonEl =\n",
              "          document.querySelector('#df-45df2c71-685a-4496-9d12-5334f373cd7c button.colab-df-convert');\n",
              "        buttonEl.style.display =\n",
              "          google.colab.kernel.accessAllowed ? 'block' : 'none';\n",
              "\n",
              "        async function convertToInteractive(key) {\n",
              "          const element = document.querySelector('#df-45df2c71-685a-4496-9d12-5334f373cd7c');\n",
              "          const dataTable =\n",
              "            await google.colab.kernel.invokeFunction('convertToInteractive',\n",
              "                                                     [key], {});\n",
              "          if (!dataTable) return;\n",
              "\n",
              "          const docLinkHtml = 'Like what you see? Visit the ' +\n",
              "            '<a target=\"_blank\" href=https://colab.research.google.com/notebooks/data_table.ipynb>data table notebook</a>'\n",
              "            + ' to learn more about interactive tables.';\n",
              "          element.innerHTML = '';\n",
              "          dataTable['output_type'] = 'display_data';\n",
              "          await google.colab.output.renderOutput(dataTable, element);\n",
              "          const docLink = document.createElement('div');\n",
              "          docLink.innerHTML = docLinkHtml;\n",
              "          element.appendChild(docLink);\n",
              "        }\n",
              "      </script>\n",
              "    </div>\n",
              "  </div>\n",
              "  "
            ]
          },
          "metadata": {},
          "execution_count": 122
        }
      ]
    },
    {
      "cell_type": "markdown",
      "source": [
        "## EDAと前処理\n",
        "\n",
        "\n",
        "\n"
      ],
      "metadata": {
        "id": "U_7Uk6rIVWHM"
      }
    },
    {
      "cell_type": "code",
      "source": [
        "df.shape"
      ],
      "metadata": {
        "colab": {
          "base_uri": "https://localhost:8080/"
        },
        "id": "XfDTjWA30Bq8",
        "outputId": "3bb616cf-d750-41f0-d133-7d8fb9300b6f"
      },
      "execution_count": 123,
      "outputs": [
        {
          "output_type": "execute_result",
          "data": {
            "text/plain": [
              "(569, 33)"
            ]
          },
          "metadata": {},
          "execution_count": 123
        }
      ]
    },
    {
      "cell_type": "code",
      "source": [
        "df.info()"
      ],
      "metadata": {
        "colab": {
          "base_uri": "https://localhost:8080/"
        },
        "id": "0khVmrG7j3Ii",
        "outputId": "c32d9a45-b865-48b3-bace-ff5312d02fca"
      },
      "execution_count": 124,
      "outputs": [
        {
          "output_type": "stream",
          "name": "stdout",
          "text": [
            "<class 'pandas.core.frame.DataFrame'>\n",
            "RangeIndex: 569 entries, 0 to 568\n",
            "Data columns (total 33 columns):\n",
            " #   Column                   Non-Null Count  Dtype  \n",
            "---  ------                   --------------  -----  \n",
            " 0   id                       569 non-null    int64  \n",
            " 1   diagnosis                569 non-null    object \n",
            " 2   radius_mean              569 non-null    float64\n",
            " 3   texture_mean             569 non-null    float64\n",
            " 4   perimeter_mean           569 non-null    float64\n",
            " 5   area_mean                569 non-null    float64\n",
            " 6   smoothness_mean          569 non-null    float64\n",
            " 7   compactness_mean         569 non-null    float64\n",
            " 8   concavity_mean           569 non-null    float64\n",
            " 9   concave points_mean      569 non-null    float64\n",
            " 10  symmetry_mean            569 non-null    float64\n",
            " 11  fractal_dimension_mean   569 non-null    float64\n",
            " 12  radius_se                569 non-null    float64\n",
            " 13  texture_se               569 non-null    float64\n",
            " 14  perimeter_se             569 non-null    float64\n",
            " 15  area_se                  569 non-null    float64\n",
            " 16  smoothness_se            569 non-null    float64\n",
            " 17  compactness_se           569 non-null    float64\n",
            " 18  concavity_se             569 non-null    float64\n",
            " 19  concave points_se        569 non-null    float64\n",
            " 20  symmetry_se              569 non-null    float64\n",
            " 21  fractal_dimension_se     569 non-null    float64\n",
            " 22  radius_worst             569 non-null    float64\n",
            " 23  texture_worst            569 non-null    float64\n",
            " 24  perimeter_worst          569 non-null    float64\n",
            " 25  area_worst               569 non-null    float64\n",
            " 26  smoothness_worst         569 non-null    float64\n",
            " 27  compactness_worst        569 non-null    float64\n",
            " 28  concavity_worst          569 non-null    float64\n",
            " 29  concave points_worst     569 non-null    float64\n",
            " 30  symmetry_worst           569 non-null    float64\n",
            " 31  fractal_dimension_worst  569 non-null    float64\n",
            " 32  Unnamed: 32              0 non-null      float64\n",
            "dtypes: float64(31), int64(1), object(1)\n",
            "memory usage: 146.8+ KB\n"
          ]
        }
      ]
    },
    {
      "cell_type": "markdown",
      "source": [
        "不要な変数（分類に関係のない患者IDとデータが入っていない変数）の削除"
      ],
      "metadata": {
        "id": "A-93oHPej9YS"
      }
    },
    {
      "cell_type": "code",
      "source": [
        "df = df.drop(columns=['id', 'Unnamed: 32'])"
      ],
      "metadata": {
        "id": "k2DH9Q100JEn"
      },
      "execution_count": 125,
      "outputs": []
    },
    {
      "cell_type": "markdown",
      "source": [
        "欠損値は特になし"
      ],
      "metadata": {
        "id": "hk5aGlhrlNvG"
      }
    },
    {
      "cell_type": "code",
      "source": [
        "df.isnull().any()"
      ],
      "metadata": {
        "colab": {
          "base_uri": "https://localhost:8080/"
        },
        "id": "nDex9hrtlMle",
        "outputId": "95a9868a-316e-406f-d66b-6960fd0f431e"
      },
      "execution_count": 126,
      "outputs": [
        {
          "output_type": "execute_result",
          "data": {
            "text/plain": [
              "diagnosis                  False\n",
              "radius_mean                False\n",
              "texture_mean               False\n",
              "perimeter_mean             False\n",
              "area_mean                  False\n",
              "smoothness_mean            False\n",
              "compactness_mean           False\n",
              "concavity_mean             False\n",
              "concave points_mean        False\n",
              "symmetry_mean              False\n",
              "fractal_dimension_mean     False\n",
              "radius_se                  False\n",
              "texture_se                 False\n",
              "perimeter_se               False\n",
              "area_se                    False\n",
              "smoothness_se              False\n",
              "compactness_se             False\n",
              "concavity_se               False\n",
              "concave points_se          False\n",
              "symmetry_se                False\n",
              "fractal_dimension_se       False\n",
              "radius_worst               False\n",
              "texture_worst              False\n",
              "perimeter_worst            False\n",
              "area_worst                 False\n",
              "smoothness_worst           False\n",
              "compactness_worst          False\n",
              "concavity_worst            False\n",
              "concave points_worst       False\n",
              "symmetry_worst             False\n",
              "fractal_dimension_worst    False\n",
              "dtype: bool"
            ]
          },
          "metadata": {},
          "execution_count": 126
        }
      ]
    },
    {
      "cell_type": "markdown",
      "source": [
        "今回患者の乳がんを悪性か良性が判断するにあたって\n",
        "\n",
        "目的変数となるのが　diagnosisの変数、\n",
        "\n",
        "カテゴリ変数でM（悪性）かB（良性）になっているのでこの変数を数値変数にする"
      ],
      "metadata": {
        "id": "a3kP36T8_hvL"
      }
    },
    {
      "cell_type": "code",
      "source": [
        "df['diagnosis'].value_counts()"
      ],
      "metadata": {
        "colab": {
          "base_uri": "https://localhost:8080/"
        },
        "id": "MjifOynQ0k3J",
        "outputId": "53f9d7b6-e800-42fd-ee11-0ad7edf2a3ce"
      },
      "execution_count": 127,
      "outputs": [
        {
          "output_type": "execute_result",
          "data": {
            "text/plain": [
              "B    357\n",
              "M    212\n",
              "Name: diagnosis, dtype: int64"
            ]
          },
          "metadata": {},
          "execution_count": 127
        }
      ]
    },
    {
      "cell_type": "code",
      "source": [
        "# make diagnosis column binary - 1(M) or 0(B)\n",
        "\n",
        "df['diagnosis'] = df['diagnosis'].apply(lambda x: 1 if x == 'M' else 0)"
      ],
      "metadata": {
        "id": "lxJ9kVe20lxY"
      },
      "execution_count": 128,
      "outputs": []
    },
    {
      "cell_type": "code",
      "source": [
        "df['diagnosis'].value_counts()"
      ],
      "metadata": {
        "colab": {
          "base_uri": "https://localhost:8080/"
        },
        "id": "UyHgUsFu1nVt",
        "outputId": "afa2c9b4-0f75-4196-aff7-2d5838628632"
      },
      "execution_count": 129,
      "outputs": [
        {
          "output_type": "execute_result",
          "data": {
            "text/plain": [
              "0    357\n",
              "1    212\n",
              "Name: diagnosis, dtype: int64"
            ]
          },
          "metadata": {},
          "execution_count": 129
        }
      ]
    },
    {
      "cell_type": "code",
      "source": [
        "sns.countplot(x='diagnosis', data=df).set(title='Target feature distribution')\n",
        "plt.show()"
      ],
      "metadata": {
        "colab": {
          "base_uri": "https://localhost:8080/",
          "height": 472
        },
        "id": "kG8SJOhi_uV9",
        "outputId": "6de7841b-9157-46b8-bf5e-2c1679e928af"
      },
      "execution_count": 156,
      "outputs": [
        {
          "output_type": "display_data",
          "data": {
            "text/plain": [
              "<Figure size 640x480 with 1 Axes>"
            ],
            "image/png": "[encoded data removed]"
          },
          "metadata": {}
        }
      ]
    },
    {
      "cell_type": "markdown",
      "source": [
        "569人の患者のデータのうち、0（良性）であるものが約6割と１（悪性）よりも多い"
      ],
      "metadata": {
        "id": "m6pANzSUmcEO"
      }
    },
    {
      "cell_type": "markdown",
      "source": [
        "## 最初のベンチマークとなるRandom Forestのモデル作成\n",
        "\n",
        "まずは全ての変数をそのままでRandom Forestを使ったものをベンチマークとする"
      ],
      "metadata": {
        "id": "FeI3zlreBZED"
      }
    },
    {
      "cell_type": "code",
      "source": [
        "from sklearn.model_selection import train_test_split\n",
        "\n",
        "train, test = train_test_split(df, test_size=0.2, random_state=1)"
      ],
      "metadata": {
        "id": "av7n88OMOU6C"
      },
      "execution_count": 131,
      "outputs": []
    },
    {
      "cell_type": "code",
      "source": [
        "X_train_full = train.drop(columns='diagnosis')\n",
        "y_train_full = train['diagnosis']\n",
        "X_test_full = test.drop(columns='diagnosis')\n",
        "y_test_full = test['diagnosis']"
      ],
      "metadata": {
        "id": "tpKzZWfIOU6X"
      },
      "execution_count": 132,
      "outputs": []
    },
    {
      "cell_type": "code",
      "source": [
        "print('len of X_train', len(X_train_full), 'len of X_test', len(X_test_full))"
      ],
      "metadata": {
        "colab": {
          "base_uri": "https://localhost:8080/"
        },
        "outputId": "417bb278-df59-4dee-edf3-6b1f07dbc914",
        "id": "gP558na9OU6Y"
      },
      "execution_count": 133,
      "outputs": [
        {
          "output_type": "stream",
          "name": "stdout",
          "text": [
            "len of X_train 455 len of X_test 114\n"
          ]
        }
      ]
    },
    {
      "cell_type": "code",
      "source": [
        "from sklearn.ensemble import RandomForestClassifier"
      ],
      "metadata": {
        "id": "_gKFLKPxOU6b"
      },
      "execution_count": 134,
      "outputs": []
    },
    {
      "cell_type": "code",
      "source": [
        "rfc_full = RandomForestClassifier()"
      ],
      "metadata": {
        "id": "SDAYgIcWOU6c"
      },
      "execution_count": 135,
      "outputs": []
    },
    {
      "cell_type": "code",
      "source": [
        "rfc_full.fit(X_train_full, y_train_full)"
      ],
      "metadata": {
        "colab": {
          "base_uri": "https://localhost:8080/",
          "height": 74
        },
        "outputId": "436d24b4-2d0e-46ba-979f-3faf535c3561",
        "id": "Sa09B4N_OU6f"
      },
      "execution_count": 136,
      "outputs": [
        {
          "output_type": "execute_result",
          "data": {
            "text/plain": [
              "RandomForestClassifier()"
            ],
            "text/html": [
              "<style>#sk-container-id-6 {color: black;background-color: white;}#sk-container-id-6 pre{padding: 0;}#sk-container-id-6 div.sk-toggleable {background-color: white;}#sk-container-id-6 label.sk-toggleable__label {cursor: pointer;display: block;width: 100%;margin-bottom: 0;padding: 0.3em;box-sizing: border-box;text-align: center;}#sk-container-id-6 label.sk-toggleable__label-arrow:before {content: \"▸\";float: left;margin-right: 0.25em;color: #696969;}#sk-container-id-6 label.sk-toggleable__label-arrow:hover:before {color: black;}#sk-container-id-6 div.sk-estimator:hover label.sk-toggleable__label-arrow:before {color: black;}#sk-container-id-6 div.sk-toggleable__content {max-height: 0;max-width: 0;overflow: hidden;text-align: left;background-color: #f0f8ff;}#sk-container-id-6 div.sk-toggleable__content pre {margin: 0.2em;color: black;border-radius: 0.25em;background-color: #f0f8ff;}#sk-container-id-6 input.sk-toggleable__control:checked~div.sk-toggleable__content {max-height: 200px;max-width: 100%;overflow: auto;}#sk-container-id-6 input.sk-toggleable__control:checked~label.sk-toggleable__label-arrow:before {content: \"▾\";}#sk-container-id-6 div.sk-estimator input.sk-toggleable__control:checked~label.sk-toggleable__label {background-color: #d4ebff;}#sk-container-id-6 div.sk-label input.sk-toggleable__control:checked~label.sk-toggleable__label {background-color: #d4ebff;}#sk-container-id-6 input.sk-hidden--visually {border: 0;clip: rect(1px 1px 1px 1px);clip: rect(1px, 1px, 1px, 1px);height: 1px;margin: -1px;overflow: hidden;padding: 0;position: absolute;width: 1px;}#sk-container-id-6 div.sk-estimator {font-family: monospace;background-color: #f0f8ff;border: 1px dotted black;border-radius: 0.25em;box-sizing: border-box;margin-bottom: 0.5em;}#sk-container-id-6 div.sk-estimator:hover {background-color: #d4ebff;}#sk-container-id-6 div.sk-parallel-item::after {content: \"\";width: 100%;border-bottom: 1px solid gray;flex-grow: 1;}#sk-container-id-6 div.sk-label:hover label.sk-toggleable__label {background-color: #d4ebff;}#sk-container-id-6 div.sk-serial::before {content: \"\";position: absolute;border-left: 1px solid gray;box-sizing: border-box;top: 0;bottom: 0;left: 50%;z-index: 0;}#sk-container-id-6 div.sk-serial {display: flex;flex-direction: column;align-items: center;background-color: white;padding-right: 0.2em;padding-left: 0.2em;position: relative;}#sk-container-id-6 div.sk-item {position: relative;z-index: 1;}#sk-container-id-6 div.sk-parallel {display: flex;align-items: stretch;justify-content: center;background-color: white;position: relative;}#sk-container-id-6 div.sk-item::before, #sk-container-id-6 div.sk-parallel-item::before {content: \"\";position: absolute;border-left: 1px solid gray;box-sizing: border-box;top: 0;bottom: 0;left: 50%;z-index: -1;}#sk-container-id-6 div.sk-parallel-item {display: flex;flex-direction: column;z-index: 1;position: relative;background-color: white;}#sk-container-id-6 div.sk-parallel-item:first-child::after {align-self: flex-end;width: 50%;}#sk-container-id-6 div.sk-parallel-item:last-child::after {align-self: flex-start;width: 50%;}#sk-container-id-6 div.sk-parallel-item:only-child::after {width: 0;}#sk-container-id-6 div.sk-dashed-wrapped {border: 1px dashed gray;margin: 0 0.4em 0.5em 0.4em;box-sizing: border-box;padding-bottom: 0.4em;background-color: white;}#sk-container-id-6 div.sk-label label {font-family: monospace;font-weight: bold;display: inline-block;line-height: 1.2em;}#sk-container-id-6 div.sk-label-container {text-align: center;}#sk-container-id-6 div.sk-container {/* jupyter's `normalize.less` sets `[hidden] { display: none; }` but bootstrap.min.css set `[hidden] { display: none !important; }` so we also need the `!important` here to be able to override the default hidden behavior on the sphinx rendered scikit-learn.org. See: https://github.com/scikit-learn/scikit-learn/issues/21755 */display: inline-block !important;position: relative;}#sk-container-id-6 div.sk-text-repr-fallback {display: none;}</style><div id=\"sk-container-id-6\" class=\"sk-top-container\"><div class=\"sk-text-repr-fallback\"><pre>RandomForestClassifier()</pre><b>In a Jupyter environment, please rerun this cell to show the HTML representation or trust the notebook. <br />On GitHub, the HTML representation is unable to render, please try loading this page with nbviewer.org.</b></div><div class=\"sk-container\" hidden><div class=\"sk-item\"><div class=\"sk-estimator sk-toggleable\"><input class=\"sk-toggleable__control sk-hidden--visually\" id=\"sk-estimator-id-6\" type=\"checkbox\" checked><label for=\"sk-estimator-id-6\" class=\"sk-toggleable__label sk-toggleable__label-arrow\">RandomForestClassifier</label><div class=\"sk-toggleable__content\"><pre>RandomForestClassifier()</pre></div></div></div></div></div>"
            ]
          },
          "metadata": {},
          "execution_count": 136
        }
      ]
    },
    {
      "cell_type": "code",
      "source": [
        "rfc_prediction_full = rfc_full.predict(X_test_full)"
      ],
      "metadata": {
        "id": "JpvvIeNpOU6g"
      },
      "execution_count": 137,
      "outputs": []
    },
    {
      "cell_type": "markdown",
      "source": [
        "モデルの精度を確認する"
      ],
      "metadata": {
        "id": "JZwJo4nQOU6i"
      }
    },
    {
      "cell_type": "code",
      "source": [
        "from sklearn.metrics import confusion_matrix\n",
        "\n",
        "rfc_cm_full = confusion_matrix(y_test_full, rfc_prediction_full)\n",
        "rfc_cm_full"
      ],
      "metadata": {
        "colab": {
          "base_uri": "https://localhost:8080/"
        },
        "outputId": "f452cd58-a5a3-466e-8f42-5b1fb8355752",
        "id": "nO6TREdtOU6o"
      },
      "execution_count": 138,
      "outputs": [
        {
          "output_type": "execute_result",
          "data": {
            "text/plain": [
              "array([[71,  1],\n",
              "       [ 5, 37]])"
            ]
          },
          "metadata": {},
          "execution_count": 138
        }
      ]
    },
    {
      "cell_type": "markdown",
      "source": [
        "このConfusion Matrixから分かること\n",
        "\n",
        "TP 71 - 実際に悪性でモデルも悪性と判断したもの\n",
        "\n",
        "TN 37 - 実際に良性でモデルも良性と判断したもの\n",
        "\n",
        "FP 1 - 実際は良性でモデルが悪性と判断したもの\n",
        "\n",
        "FN 5 - 実際は悪性でモデルが良性と判断したもの"
      ],
      "metadata": {
        "id": "B4ztW26pOU6q"
      }
    },
    {
      "cell_type": "code",
      "source": [
        "from sklearn.metrics import precision_score\n",
        "from sklearn.metrics import recall_score"
      ],
      "metadata": {
        "id": "holFiuQXOU6r"
      },
      "execution_count": 139,
      "outputs": []
    },
    {
      "cell_type": "code",
      "source": [
        "precision_full = precision_score(y_test_full, rfc_prediction_full)\n",
        "print('precision is %.2f' % precision_full)\n",
        "\n",
        "recall_full = recall_score(y_test_full, rfc_prediction_full)\n",
        "print('recall is %.2f' % recall_full)"
      ],
      "metadata": {
        "colab": {
          "base_uri": "https://localhost:8080/"
        },
        "outputId": "50f9be0e-d93b-42c4-8d73-e4f9461f3b06",
        "id": "9afDT8lKOU6t"
      },
      "execution_count": 140,
      "outputs": [
        {
          "output_type": "stream",
          "name": "stdout",
          "text": [
            "precision is 0.97\n",
            "recall is 0.88\n"
          ]
        }
      ]
    },
    {
      "cell_type": "code",
      "source": [
        "from sklearn.metrics import accuracy_score"
      ],
      "metadata": {
        "id": "HYRh5UOrOU6v"
      },
      "execution_count": 141,
      "outputs": []
    },
    {
      "cell_type": "code",
      "source": [
        "accuracy_full = accuracy_score(y_test_full, rfc_prediction_full)\n",
        "print('accuracy is %.2f' % accuracy_full)"
      ],
      "metadata": {
        "colab": {
          "base_uri": "https://localhost:8080/"
        },
        "outputId": "078a344f-4568-444c-df61-13142162a53a",
        "id": "KhkIISljOU6w"
      },
      "execution_count": 142,
      "outputs": [
        {
          "output_type": "stream",
          "name": "stdout",
          "text": [
            "accuracy is 0.95\n"
          ]
        }
      ]
    },
    {
      "cell_type": "markdown",
      "source": [
        "Precisionがかなり高いのに対して、\n",
        "\n",
        "Recall、つまり正解値がPositive(悪性）なのに対してモデルの予測がどれだけ正解していたか、\n",
        "\n",
        "はそれほど高くはないのでAccuracyは高いものの、実際には悪性のものをそうでないと判断してしまっている\n"
      ],
      "metadata": {
        "id": "ptHf6AcPacpu"
      }
    },
    {
      "cell_type": "markdown",
      "source": [
        "Importance of features\n",
        "\n",
        "それぞれの変数（特徴量）がバイナリ分類するにあたってどれだけ寄与したのかを見てみる\n",
        "\n"
      ],
      "metadata": {
        "id": "UgRHpCJPSuNU"
      }
    },
    {
      "cell_type": "code",
      "source": [
        "features_importance = pd.Series(rfc_full.feature_importances_, index=X_train_full.columns).sort_values(ascending=False)\n",
        "features_importance"
      ],
      "metadata": {
        "colab": {
          "base_uri": "https://localhost:8080/"
        },
        "id": "TpnRIywA_0FC",
        "outputId": "27e00828-ca92-453a-f9d0-1505a1c79bcf"
      },
      "execution_count": 143,
      "outputs": [
        {
          "output_type": "execute_result",
          "data": {
            "text/plain": [
              "radius_worst               0.132404\n",
              "perimeter_worst            0.112506\n",
              "area_worst                 0.108074\n",
              "concave points_worst       0.107392\n",
              "perimeter_mean             0.088811\n",
              "concave points_mean        0.083151\n",
              "concavity_mean             0.061937\n",
              "concavity_worst            0.048367\n",
              "area_se                    0.039077\n",
              "area_mean                  0.037003\n",
              "radius_mean                0.028449\n",
              "compactness_mean           0.018685\n",
              "texture_mean               0.018370\n",
              "compactness_worst          0.016322\n",
              "texture_worst              0.014905\n",
              "radius_se                  0.010700\n",
              "symmetry_worst             0.009073\n",
              "smoothness_worst           0.008622\n",
              "fractal_dimension_worst    0.007948\n",
              "perimeter_se               0.007878\n",
              "concavity_se               0.005492\n",
              "smoothness_mean            0.005144\n",
              "fractal_dimension_se       0.004995\n",
              "texture_se                 0.004216\n",
              "compactness_se             0.003991\n",
              "symmetry_mean              0.003752\n",
              "concave points_se          0.003650\n",
              "smoothness_se              0.003482\n",
              "symmetry_se                0.002905\n",
              "fractal_dimension_mean     0.002697\n",
              "dtype: float64"
            ]
          },
          "metadata": {},
          "execution_count": 143
        }
      ]
    },
    {
      "cell_type": "markdown",
      "source": [
        "## 特徴量エンジニアリング\n",
        "\n",
        "今回のデータでは変数名に _mean　がつくものはデータの細胞の平均をとったものとなっており、\n",
        "\n",
        "変数名に _se　がつくものは細胞データのStandard Error、\n",
        "\n",
        "そして変数名に _worst　がつくものは細胞データのWorstのデータをとっているので\n",
        "\n",
        "学習させる変数を_meanがつくものだけに絞った場合に精度に変化が出るのかを検証する"
      ],
      "metadata": {
        "id": "_PVvf3yDVURR"
      }
    },
    {
      "cell_type": "code",
      "source": [
        "mean_vars = ['radius_mean', 'texture_mean', 'perimeter_mean',\n",
        "       'area_mean', 'smoothness_mean', 'compactness_mean', 'concavity_mean',\n",
        "       'concave points_mean', 'symmetry_mean', 'fractal_dimension_mean']"
      ],
      "metadata": {
        "id": "BXB1obQgSsA_"
      },
      "execution_count": 144,
      "outputs": []
    },
    {
      "cell_type": "code",
      "source": [
        "mean_vars"
      ],
      "metadata": {
        "colab": {
          "base_uri": "https://localhost:8080/"
        },
        "id": "88z7GHtMVnAI",
        "outputId": "55953dc0-0630-4c57-bde2-07fce8b972dd"
      },
      "execution_count": 145,
      "outputs": [
        {
          "output_type": "execute_result",
          "data": {
            "text/plain": [
              "['radius_mean',\n",
              " 'texture_mean',\n",
              " 'perimeter_mean',\n",
              " 'area_mean',\n",
              " 'smoothness_mean',\n",
              " 'compactness_mean',\n",
              " 'concavity_mean',\n",
              " 'concave points_mean',\n",
              " 'symmetry_mean',\n",
              " 'fractal_dimension_mean']"
            ]
          },
          "metadata": {},
          "execution_count": 145
        }
      ]
    },
    {
      "cell_type": "code",
      "source": [
        "X_train_mean = train[mean_vars]\n",
        "y_train_mean = train['diagnosis']\n",
        "X_test_mean = test[mean_vars]\n",
        "y_test_mean = test['diagnosis']"
      ],
      "metadata": {
        "id": "_qhrW8glV5Hp"
      },
      "execution_count": 146,
      "outputs": []
    },
    {
      "cell_type": "code",
      "source": [
        "rfc_mean = RandomForestClassifier()"
      ],
      "metadata": {
        "id": "AIEOHyJyV5IE"
      },
      "execution_count": 147,
      "outputs": []
    },
    {
      "cell_type": "code",
      "source": [
        "rfc_mean.fit(X_train_mean, y_train_mean)"
      ],
      "metadata": {
        "colab": {
          "base_uri": "https://localhost:8080/",
          "height": 74
        },
        "outputId": "1642567a-0c8a-49b7-8ed6-5dd8f794b370",
        "id": "V4qLsiQIWilH"
      },
      "execution_count": 148,
      "outputs": [
        {
          "output_type": "execute_result",
          "data": {
            "text/plain": [
              "RandomForestClassifier()"
            ],
            "text/html": [
              "<style>#sk-container-id-7 {color: black;background-color: white;}#sk-container-id-7 pre{padding: 0;}#sk-container-id-7 div.sk-toggleable {background-color: white;}#sk-container-id-7 label.sk-toggleable__label {cursor: pointer;display: block;width: 100%;margin-bottom: 0;padding: 0.3em;box-sizing: border-box;text-align: center;}#sk-container-id-7 label.sk-toggleable__label-arrow:before {content: \"▸\";float: left;margin-right: 0.25em;color: #696969;}#sk-container-id-7 label.sk-toggleable__label-arrow:hover:before {color: black;}#sk-container-id-7 div.sk-estimator:hover label.sk-toggleable__label-arrow:before {color: black;}#sk-container-id-7 div.sk-toggleable__content {max-height: 0;max-width: 0;overflow: hidden;text-align: left;background-color: #f0f8ff;}#sk-container-id-7 div.sk-toggleable__content pre {margin: 0.2em;color: black;border-radius: 0.25em;background-color: #f0f8ff;}#sk-container-id-7 input.sk-toggleable__control:checked~div.sk-toggleable__content {max-height: 200px;max-width: 100%;overflow: auto;}#sk-container-id-7 input.sk-toggleable__control:checked~label.sk-toggleable__label-arrow:before {content: \"▾\";}#sk-container-id-7 div.sk-estimator input.sk-toggleable__control:checked~label.sk-toggleable__label {background-color: #d4ebff;}#sk-container-id-7 div.sk-label input.sk-toggleable__control:checked~label.sk-toggleable__label {background-color: #d4ebff;}#sk-container-id-7 input.sk-hidden--visually {border: 0;clip: rect(1px 1px 1px 1px);clip: rect(1px, 1px, 1px, 1px);height: 1px;margin: -1px;overflow: hidden;padding: 0;position: absolute;width: 1px;}#sk-container-id-7 div.sk-estimator {font-family: monospace;background-color: #f0f8ff;border: 1px dotted black;border-radius: 0.25em;box-sizing: border-box;margin-bottom: 0.5em;}#sk-container-id-7 div.sk-estimator:hover {background-color: #d4ebff;}#sk-container-id-7 div.sk-parallel-item::after {content: \"\";width: 100%;border-bottom: 1px solid gray;flex-grow: 1;}#sk-container-id-7 div.sk-label:hover label.sk-toggleable__label {background-color: #d4ebff;}#sk-container-id-7 div.sk-serial::before {content: \"\";position: absolute;border-left: 1px solid gray;box-sizing: border-box;top: 0;bottom: 0;left: 50%;z-index: 0;}#sk-container-id-7 div.sk-serial {display: flex;flex-direction: column;align-items: center;background-color: white;padding-right: 0.2em;padding-left: 0.2em;position: relative;}#sk-container-id-7 div.sk-item {position: relative;z-index: 1;}#sk-container-id-7 div.sk-parallel {display: flex;align-items: stretch;justify-content: center;background-color: white;position: relative;}#sk-container-id-7 div.sk-item::before, #sk-container-id-7 div.sk-parallel-item::before {content: \"\";position: absolute;border-left: 1px solid gray;box-sizing: border-box;top: 0;bottom: 0;left: 50%;z-index: -1;}#sk-container-id-7 div.sk-parallel-item {display: flex;flex-direction: column;z-index: 1;position: relative;background-color: white;}#sk-container-id-7 div.sk-parallel-item:first-child::after {align-self: flex-end;width: 50%;}#sk-container-id-7 div.sk-parallel-item:last-child::after {align-self: flex-start;width: 50%;}#sk-container-id-7 div.sk-parallel-item:only-child::after {width: 0;}#sk-container-id-7 div.sk-dashed-wrapped {border: 1px dashed gray;margin: 0 0.4em 0.5em 0.4em;box-sizing: border-box;padding-bottom: 0.4em;background-color: white;}#sk-container-id-7 div.sk-label label {font-family: monospace;font-weight: bold;display: inline-block;line-height: 1.2em;}#sk-container-id-7 div.sk-label-container {text-align: center;}#sk-container-id-7 div.sk-container {/* jupyter's `normalize.less` sets `[hidden] { display: none; }` but bootstrap.min.css set `[hidden] { display: none !important; }` so we also need the `!important` here to be able to override the default hidden behavior on the sphinx rendered scikit-learn.org. See: https://github.com/scikit-learn/scikit-learn/issues/21755 */display: inline-block !important;position: relative;}#sk-container-id-7 div.sk-text-repr-fallback {display: none;}</style><div id=\"sk-container-id-7\" class=\"sk-top-container\"><div class=\"sk-text-repr-fallback\"><pre>RandomForestClassifier()</pre><b>In a Jupyter environment, please rerun this cell to show the HTML representation or trust the notebook. <br />On GitHub, the HTML representation is unable to render, please try loading this page with nbviewer.org.</b></div><div class=\"sk-container\" hidden><div class=\"sk-item\"><div class=\"sk-estimator sk-toggleable\"><input class=\"sk-toggleable__control sk-hidden--visually\" id=\"sk-estimator-id-7\" type=\"checkbox\" checked><label for=\"sk-estimator-id-7\" class=\"sk-toggleable__label sk-toggleable__label-arrow\">RandomForestClassifier</label><div class=\"sk-toggleable__content\"><pre>RandomForestClassifier()</pre></div></div></div></div></div>"
            ]
          },
          "metadata": {},
          "execution_count": 148
        }
      ]
    },
    {
      "cell_type": "code",
      "source": [
        "rfc_prediction_mean = rfc_mean.predict(X_test_mean)"
      ],
      "metadata": {
        "id": "1XrQoXQAWimB"
      },
      "execution_count": 149,
      "outputs": []
    },
    {
      "cell_type": "markdown",
      "source": [
        "精度の確認"
      ],
      "metadata": {
        "id": "C-e3oHy3WimN"
      }
    },
    {
      "cell_type": "code",
      "source": [
        "rfc_cm_mean = confusion_matrix(y_test_mean, rfc_prediction_mean)\n",
        "rfc_cm_mean"
      ],
      "metadata": {
        "colab": {
          "base_uri": "https://localhost:8080/"
        },
        "outputId": "d50cf805-c01e-4c1d-e575-19ce1685264c",
        "id": "Q3Pz_0n2WimP"
      },
      "execution_count": 150,
      "outputs": [
        {
          "output_type": "execute_result",
          "data": {
            "text/plain": [
              "array([[70,  2],\n",
              "       [ 6, 36]])"
            ]
          },
          "metadata": {},
          "execution_count": 150
        }
      ]
    },
    {
      "cell_type": "code",
      "source": [
        "precision_mean = precision_score(y_test_mean, rfc_prediction_mean)\n",
        "print('precision is %.2f' % precision_mean)\n",
        "\n",
        "recall_mean = recall_score(y_test_mean, rfc_prediction_mean)\n",
        "print('recall is %.2f' % recall_mean)"
      ],
      "metadata": {
        "colab": {
          "base_uri": "https://localhost:8080/"
        },
        "outputId": "6f5aea86-2c09-468d-ba14-b675ec8b9a3a",
        "id": "V7z9rwUnWimd"
      },
      "execution_count": 151,
      "outputs": [
        {
          "output_type": "stream",
          "name": "stdout",
          "text": [
            "precision is 0.95\n",
            "recall is 0.86\n"
          ]
        }
      ]
    },
    {
      "cell_type": "code",
      "source": [
        "accuracy_mean = accuracy_score(y_test_mean, rfc_prediction_mean)\n",
        "print('accuracy is %.2f' % accuracy_mean)"
      ],
      "metadata": {
        "colab": {
          "base_uri": "https://localhost:8080/"
        },
        "outputId": "f785fdd7-f0bd-4f64-ba37-65a0e35d491f",
        "id": "kZSs9mTdWimi"
      },
      "execution_count": 152,
      "outputs": [
        {
          "output_type": "stream",
          "name": "stdout",
          "text": [
            "accuracy is 0.93\n"
          ]
        }
      ]
    },
    {
      "cell_type": "markdown",
      "source": [
        "ベンチーマークモデルの精度\n",
        "\n",
        "precision is 0.97\n",
        "\n",
        "recall is 0.88\n",
        "\n",
        "accuracy is 0.95"
      ],
      "metadata": {
        "id": "-Vdg1fK-ip_-"
      }
    },
    {
      "cell_type": "markdown",
      "source": [
        "最初のベンチマークのモデルと比べると\n",
        "\n",
        "AccuracyとPrecisionは少し下がったものの、\n",
        "Recallが少し上がっている\n",
        "\n"
      ],
      "metadata": {
        "id": "sRLjE0sUds3s"
      }
    },
    {
      "cell_type": "code",
      "source": [
        "features_importance_mean = pd.Series(rfc_mean.feature_importances_, index=X_train_mean.columns).sort_values(ascending=False)\n",
        "features_importance_mean"
      ],
      "metadata": {
        "colab": {
          "base_uri": "https://localhost:8080/"
        },
        "id": "dV84LBtRdzsw",
        "outputId": "179823ba-fe8e-4352-c022-02342d021550"
      },
      "execution_count": 153,
      "outputs": [
        {
          "output_type": "execute_result",
          "data": {
            "text/plain": [
              "concave points_mean       0.318353\n",
              "concavity_mean            0.156197\n",
              "perimeter_mean            0.139699\n",
              "area_mean                 0.112928\n",
              "radius_mean               0.094712\n",
              "texture_mean              0.077466\n",
              "compactness_mean          0.048017\n",
              "smoothness_mean           0.022652\n",
              "symmetry_mean             0.015478\n",
              "fractal_dimension_mean    0.014497\n",
              "dtype: float64"
            ]
          },
          "metadata": {},
          "execution_count": 153
        }
      ]
    },
    {
      "cell_type": "markdown",
      "source": [
        "## 説明変数を絞ったデータで今回は3つのアルゴリズムを試し比較する\n",
        "\n",
        "今回はさきほどと同じデータで\n",
        "MLPClassifier, SVCのアルゴリズムでもモデルを作成し、比較してみる"
      ],
      "metadata": {
        "id": "GmQuHOdMZUU0"
      }
    },
    {
      "cell_type": "code",
      "source": [
        "from sklearn.neural_network import MLPClassifier\n",
        "from sklearn.svm import SVC"
      ],
      "metadata": {
        "id": "zwxiJCBxXW7Z"
      },
      "execution_count": 154,
      "outputs": []
    },
    {
      "cell_type": "code",
      "source": [
        "rfc = RandomForestClassifier()\n",
        "mlp = MLPClassifier()\n",
        "svc = SVC()\n",
        "\n",
        "models_name = ['Random Forest', 'MLPClassifier', 'SVC']\n",
        "models = [rfc, mlp, svc]\n",
        "\n",
        "for name, model in zip(models_name, models):\n",
        "  print(name)\n",
        "  model.fit(X_train_mean, y_train_mean)\n",
        "  prediction = model.predict(X_test_mean)\n",
        "  print()\n",
        "\n",
        "  precision = precision_score(y_test_mean, prediction)\n",
        "  print('precision is %.2f' % precision)\n",
        "\n",
        "  recall = recall_score(y_test_mean, prediction)\n",
        "  print('recall is %.2f' % recall)\n",
        "  accuracy = accuracy_score(y_test_mean, prediction)\n",
        "  print('accuracy is %.2f' % accuracy_mean)\n",
        "\n",
        "  cm = confusion_matrix(y_test_mean, prediction)\n",
        "  print(cm)\n",
        "  print('_________________________________')"
      ],
      "metadata": {
        "colab": {
          "base_uri": "https://localhost:8080/"
        },
        "id": "MHDjpbFjZYw1",
        "outputId": "085807bd-4940-45ba-8845-287d6b7c559c"
      },
      "execution_count": 155,
      "outputs": [
        {
          "output_type": "stream",
          "name": "stdout",
          "text": [
            "Random Forest\n",
            "\n",
            "precision is 0.97\n",
            "recall is 0.88\n",
            "accuracy is 0.93\n",
            "[[71  1]\n",
            " [ 5 37]]\n",
            "_________________________________\n",
            "MLPClassifier\n",
            "\n",
            "precision is 0.84\n",
            "recall is 0.74\n",
            "accuracy is 0.93\n",
            "[[66  6]\n",
            " [11 31]]\n",
            "_________________________________\n",
            "SVC\n",
            "\n",
            "precision is 1.00\n",
            "recall is 0.67\n",
            "accuracy is 0.93\n",
            "[[72  0]\n",
            " [14 28]]\n",
            "_________________________________\n"
          ]
        }
      ]
    },
    {
      "cell_type": "markdown",
      "source": [
        "Accuracyで比較するとどのモデルの精度も同じであるものの、\n",
        "\n",
        "SVCではPrecisionがとても高いもののRecallがかなり低く、\n",
        "悪性であるものをかなりの割合で良性だと判断してしまってしまうモデルになる\n",
        "\n",
        "MLPClassifierもRecallが低いのでこれも\n",
        "正解値が悪性なものを良性と分類してしまうモデルになっている\n",
        "\n",
        "なのでAccuracyは全て同じでもPrecisionとRecallでバランスがとれている\n",
        "モデルはRandom Forestのものになる\n",
        "\n"
      ],
      "metadata": {
        "id": "hF7-ZWgEgU7P"
      }
    }
  ]
}